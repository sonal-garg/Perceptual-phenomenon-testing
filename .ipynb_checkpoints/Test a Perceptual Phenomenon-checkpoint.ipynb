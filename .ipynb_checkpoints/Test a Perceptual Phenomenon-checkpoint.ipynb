{
 "cells": [
  {
   "cell_type": "markdown",
   "metadata": {},
   "source": [
    "### Analyzing the Stroop Effect\n",
    "Perform the analysis in the space below. Remember to follow [the instructions](https://docs.google.com/document/d/1-OkpZLjG_kX9J6LIQ5IltsqMzVWjh36QpnP2RYpVdPU/pub?embedded=True) and review the [project rubric](https://review.udacity.com/#!/rubrics/71/view) before submitting. Once you've completed the analysis and write-up, download this file as a PDF or HTML file, upload that PDF/HTML into the workspace here (click on the orange Jupyter icon in the upper left then Upload), then use the Submit Project button at the bottom of this page. This will create a zip file containing both this .ipynb doc and the PDF/HTML doc that will be submitted for your project.\n",
    "\n",
    "\n",
    "(1) What is the independent variable? What is the dependent variable?"
   ]
  },
  {
   "cell_type": "markdown",
   "metadata": {},
   "source": [
    "The independent variable is whether the font name and colour were same or different and the dependent variable is the reaction time i.e. the time taken to name the ink colour."
   ]
  },
  {
   "cell_type": "markdown",
   "metadata": {},
   "source": [
    "(2) What is an appropriate set of hypotheses for this task? Specify your null and alternative hypotheses, and clearly define any notation used. Justify your choices."
   ]
  },
  {
   "cell_type": "markdown",
   "metadata": {},
   "source": [
    "                    H0:μc−μi≥0\n",
    "\n",
    "                    H1:μc−μi<0\n",
    "                    \n",
    "                    where, μi= population mean of incongruent values\n",
    "                           μc= population mean of congruent values\n",
    "\n",
    "Null hypothesis(H0): The null hypotheis is that the mean of the population reaction time in case of incongruent words is not significantly longer than that of the congruent words. \n",
    "\n",
    "Alternate hypothesis(H1):The alternative hypothesis (Ha) is that the mean of the population reaction time in case of incongruent words is significantly longer than that of the congruent words.\n",
    "\n",
    "Statistical set: I believe carrying out Paired sample t-test would be appropriate here. This test compares means from the same group at different times.Also, since, we do not know the population standard deviation, this test seems appropriate. \n",
    "\n",
    "Assumption: 95% confidence interval is asssumed here( alpha=0.05)\n",
    "\n",
    "The t statistic calculated by the test can be interpreted by comparing it to critical values from the t-distribution. The critical value can be calculated using the degrees of freedom and the significance level.\n",
    "\n",
    "- Test Statistic <= Critical Value: Fail to reject the null hypothesis of the statistical test.\n",
    "- Test Statistic => Critical Value: Reject the null hypothesis of the statistical test.\n",
    "\n",
    "We can also retrieve the p-value which can then be compared to a chosen significance level (alpha =0.05) to determine if the null hypothesis can be rejected:\n",
    "\n",
    "- If p > alpha: Accept null hypothesis that the means are equal.\n",
    "- If p <= alpha: Reject null hypothesis that the means are equal."
   ]
  },
  {
   "cell_type": "markdown",
   "metadata": {},
   "source": [
    "(3) Report some descriptive statistics regarding this dataset. Include at least one measure of central tendency and at least one measure of variability. The name of the data file is 'stroopdata.csv'."
   ]
  },
  {
   "cell_type": "code",
   "execution_count": 2,
   "metadata": {},
   "outputs": [],
   "source": [
    "import pandas as pd\n",
    "import numpy as np\n",
    "import math\n",
    "import matplotlib.pyplot as plt\n",
    "%matplotlib inline"
   ]
  },
  {
   "cell_type": "code",
   "execution_count": 3,
   "metadata": {},
   "outputs": [],
   "source": [
    "df = pd.read_csv(\"stroopdata.csv\")"
   ]
  },
  {
   "cell_type": "code",
   "execution_count": 4,
   "metadata": {},
   "outputs": [
    {
     "data": {
      "text/plain": [
       "(24, 2)"
      ]
     },
     "execution_count": 4,
     "metadata": {},
     "output_type": "execute_result"
    }
   ],
   "source": [
    "df.shape"
   ]
  },
  {
   "cell_type": "code",
   "execution_count": 5,
   "metadata": {},
   "outputs": [
    {
     "data": {
      "text/html": [
       "<div>\n",
       "<style scoped>\n",
       "    .dataframe tbody tr th:only-of-type {\n",
       "        vertical-align: middle;\n",
       "    }\n",
       "\n",
       "    .dataframe tbody tr th {\n",
       "        vertical-align: top;\n",
       "    }\n",
       "\n",
       "    .dataframe thead th {\n",
       "        text-align: right;\n",
       "    }\n",
       "</style>\n",
       "<table border=\"1\" class=\"dataframe\">\n",
       "  <thead>\n",
       "    <tr style=\"text-align: right;\">\n",
       "      <th></th>\n",
       "      <th>Congruent</th>\n",
       "      <th>Incongruent</th>\n",
       "    </tr>\n",
       "  </thead>\n",
       "  <tbody>\n",
       "    <tr>\n",
       "      <th>count</th>\n",
       "      <td>24.000000</td>\n",
       "      <td>24.000000</td>\n",
       "    </tr>\n",
       "    <tr>\n",
       "      <th>mean</th>\n",
       "      <td>14.051125</td>\n",
       "      <td>22.015917</td>\n",
       "    </tr>\n",
       "    <tr>\n",
       "      <th>std</th>\n",
       "      <td>3.559358</td>\n",
       "      <td>4.797057</td>\n",
       "    </tr>\n",
       "    <tr>\n",
       "      <th>min</th>\n",
       "      <td>8.630000</td>\n",
       "      <td>15.687000</td>\n",
       "    </tr>\n",
       "    <tr>\n",
       "      <th>25%</th>\n",
       "      <td>11.895250</td>\n",
       "      <td>18.716750</td>\n",
       "    </tr>\n",
       "    <tr>\n",
       "      <th>50%</th>\n",
       "      <td>14.356500</td>\n",
       "      <td>21.017500</td>\n",
       "    </tr>\n",
       "    <tr>\n",
       "      <th>75%</th>\n",
       "      <td>16.200750</td>\n",
       "      <td>24.051500</td>\n",
       "    </tr>\n",
       "    <tr>\n",
       "      <th>max</th>\n",
       "      <td>22.328000</td>\n",
       "      <td>35.255000</td>\n",
       "    </tr>\n",
       "  </tbody>\n",
       "</table>\n",
       "</div>"
      ],
      "text/plain": [
       "       Congruent  Incongruent\n",
       "count  24.000000    24.000000\n",
       "mean   14.051125    22.015917\n",
       "std     3.559358     4.797057\n",
       "min     8.630000    15.687000\n",
       "25%    11.895250    18.716750\n",
       "50%    14.356500    21.017500\n",
       "75%    16.200750    24.051500\n",
       "max    22.328000    35.255000"
      ]
     },
     "execution_count": 5,
     "metadata": {},
     "output_type": "execute_result"
    }
   ],
   "source": [
    "df.describe()"
   ]
  },
  {
   "cell_type": "code",
   "execution_count": 16,
   "metadata": {},
   "outputs": [
    {
     "name": "stdout",
     "output_type": "stream",
     "text": [
      "Sample mean of congruent words:  14.0511\n",
      "Sample mean of incongruent words:  22.0159\n"
     ]
    }
   ],
   "source": [
    "print('Sample mean of congruent words: ',round(df['Congruent'].mean(),4))\n",
    "print('Sample mean of incongruent words: ',round(df['Incongruent'].mean(),4))"
   ]
  },
  {
   "cell_type": "code",
   "execution_count": 7,
   "metadata": {},
   "outputs": [
    {
     "name": "stdout",
     "output_type": "stream",
     "text": [
      "Sample median of congruent words:  14.3565\n",
      "Sample median of incongruent words:  21.0175\n"
     ]
    }
   ],
   "source": [
    "print('Sample median of congruent words: ',df['Congruent'].median())\n",
    "print('Sample median of incongruent words: ',df['Incongruent'].median())"
   ]
  },
  {
   "cell_type": "code",
   "execution_count": 20,
   "metadata": {},
   "outputs": [
    {
     "name": "stdout",
     "output_type": "stream",
     "text": [
      "Sample standard deviation of congruent words:  3.5594\n",
      "Sample standard deviation of incongruent words:  4.7971\n"
     ]
    }
   ],
   "source": [
    "print('Sample standard deviation of congruent words: ',round(np.std(df['Congruent'],ddof=1),4)) # Adding ddof=1, to make the divisor as N-1\n",
    "print('Sample standard deviation of incongruent words: ',round(np.std(df['Incongruent'],ddof=1),4))"
   ]
  },
  {
   "cell_type": "code",
   "execution_count": 14,
   "metadata": {},
   "outputs": [
    {
     "name": "stdout",
     "output_type": "stream",
     "text": [
      "Mean of difference is: 7.9648, Standard deviation of differnce is: 4.8648\n"
     ]
    }
   ],
   "source": [
    "# Calculating for difference of paired data\n",
    "\n",
    "df['Difference']=df['Incongruent']-df['Congruent']\n",
    "mean_diff = df['Difference'].mean()\n",
    "std_diff = df['Difference'].std()\n",
    "\n",
    "print(\"Mean of difference is: {}, Standard deviation of differnce is: {}\".format(round(mean_diff,4),round(std_diff,4)))"
   ]
  },
  {
   "cell_type": "markdown",
   "metadata": {},
   "source": [
    "As per the above results, mean for incongruent words(14.0511) is greater than that for congreunt words(22.0159). Similarly, median is also higher for incongruent words(21.0175) than that for congruent words(14.3565). \n",
    "\n",
    "Standard deviation also shows similar patterns. It is greater for incongruent words(4.7971) than that for congruent words(3.5594)"
   ]
  },
  {
   "cell_type": "markdown",
   "metadata": {},
   "source": [
    "(4) Provide one or two visualizations that show the distribution of the sample data. Write one or two sentences noting what you observe about the plot or plots."
   ]
  },
  {
   "cell_type": "code",
   "execution_count": 21,
   "metadata": {},
   "outputs": [
    {
     "data": {
      "image/png": "[encoded data removed]",
      "text/plain": [
       "<matplotlib.figure.Figure at 0x7f0c2e6da828>"
      ]
     },
     "metadata": {
      "needs_background": "light"
     },
     "output_type": "display_data"
    }
   ],
   "source": [
    "df.plot(kind='box',figsize=(8,8),patch_artist=True)\n",
    "plt.xlabel(\"Task\",fontsize=15)\n",
    "plt.ylabel(\"Reaction time\",fontsize=15)\n",
    "plt.title(\"Reaction time for each task\");"
   ]
  },
  {
   "cell_type": "markdown",
   "metadata": {},
   "source": [
    "From the above boxplot, it is clear there are a couple of outliers for incongruent words.The median appears to be closer to the lower quartile, suggesting a poisitvely skewed distribution for incongruent words. Also, the reaction time taken for incongruent words seems to be greater than that for congruent words. This is inline with the above statsistical results."
   ]
  },
  {
   "cell_type": "code",
   "execution_count": 7,
   "metadata": {},
   "outputs": [
    {
     "data": {
      "image/png": "[encoded data removed]",
      "text/plain": [
       "<matplotlib.figure.Figure at 0x7fbba06d44e0>"
      ]
     },
     "metadata": {
      "needs_background": "light"
     },
     "output_type": "display_data"
    }
   ],
   "source": [
    "df.hist(bins=20,alpha=0.7,figsize=(10,8),color='orange');"
   ]
  },
  {
   "cell_type": "markdown",
   "metadata": {},
   "source": [
    "The histogram for congruent words appear to have a normal distribution while that for incongruent words is a more positively distributed histogram owing to its outliers.For both the histograms, there peak values seems to be similar."
   ]
  },
  {
   "cell_type": "markdown",
   "metadata": {},
   "source": [
    "(5)  Now, perform the statistical test and report your results. What is your confidence level or Type I error associated with your test? What is your conclusion regarding the hypotheses you set up? Did the results match up with your expectations? **Hint:**  Think about what is being measured on each individual, and what statistic best captures how an individual reacts in each environment."
   ]
  },
  {
   "cell_type": "code",
   "execution_count": 22,
   "metadata": {},
   "outputs": [
    {
     "name": "stdout",
     "output_type": "stream",
     "text": [
      "t value is equal to 8.0207\n"
     ]
    }
   ],
   "source": [
    "# calculating t statistic\n",
    "\n",
    "n=df.shape[0]\n",
    "\n",
    "t_stat = mean_diff/(std_diff/math.sqrt(n))\n",
    "\n",
    "print (\"t value is equal to %.4f\" % t_stat)"
   ]
  },
  {
   "cell_type": "code",
   "execution_count": 23,
   "metadata": {},
   "outputs": [
    {
     "name": "stdout",
     "output_type": "stream",
     "text": [
      "p value is 0.00000002\n"
     ]
    }
   ],
   "source": [
    "from scipy.stats import ttest_ind\n",
    "stat,p = ttest_ind(df['Congruent'], df['Incongruent'])\n",
    "print('p value is %.8f' % (p/2))"
   ]
  },
  {
   "cell_type": "markdown",
   "metadata": {},
   "source": [
    "**t statistics value= 8.0207**\n",
    "\n",
    "Using t distribution table we find **critical t value =2.069**\n",
    "\n",
    "**p=0.00000002** which is much less than alphs=0.05\n",
    "\n",
    "Since Test Statistic>Critical Value and p value is less than significance level,both the interpretations find a significant result, rejecting the null hypothesis of the statistical test in favour of alternate hypothesis(H1). Thus, we **reject the null hypothesis.**\n",
    "\n",
    "This leads us to conculde that incongruent words does lead to greater reaction time. Hence, we can say, mean of the population reaction time in case of incongruent words is significantly longer than that of the congruent words.\n",
    "\n",
    "These results match with my own expectation. With the reaction times I recorded for myself, incongruence did result in larger reaction times for me."
   ]
  },
  {
   "cell_type": "markdown",
   "metadata": {},
   "source": [
    "(6) Optional: What do you think is responsible for the effects observed? Can you think of an alternative or similar task that would result in a similar effect? Some research about the problem will be helpful for thinking about these two questions!"
   ]
  },
  {
   "cell_type": "markdown",
   "metadata": {},
   "source": [
    "I believe, this is owing to the human behaviour. When words and colour match, it becomes easy to say out the word. However, when the mismatch occurs, our brain takes a little longer to process that information. I personally, felt I needed to be more cautious in case of incongruent words. It required a little more effort from my side.\n",
    "\n",
    "I can think of a similar experience, when visually the food that came on my plate looked like a fruit(an appple) but it tasted nothing like the fruit. It was in fact very spicy. That experience confused my mind. I feel, that was, if not excatly an alternate task but a somewhat similar task."
   ]
  },
  {
   "cell_type": "markdown",
   "metadata": {},
   "source": [
    "## Resources"
   ]
  },
  {
   "cell_type": "markdown",
   "metadata": {},
   "source": [
    "- https://machinelearningmastery.com/parametric-statistical-significance-tests-in-python/\n",
    "- https://stats.stackexchange.com/questions/96553/how-to-assess-skewness-from-a-boxplot\n",
    "- https://realpython.com/python-histograms/\n",
    "- https://stackoverflow.com/questions/41997493/python-matplotlib-boxplot-color\n",
    "- https://pandas.pydata.org/pandas-docs/stable/user_guide/visualization.html\n",
    "- https://en.wikipedia.org/wiki/Stroop_effect\n",
    "- https://towardsdatascience.com/statistical-tests-when-to-use-which-704557554740\n",
    "- https://www.khanacademy.org/math/statistics-probability/summarizing-quantitative-data/variance-standard-deviation-sample/a/population-and-sample-standard-deviation-review"
   ]
  }
 ],
 "metadata": {
  "kernelspec": {
   "display_name": "Python 3",
   "language": "python",
   "name": "python3"
  },
  "language_info": {
   "codemirror_mode": {
    "name": "ipython",
    "version": 3
   },
   "file_extension": ".py",
   "mimetype": "text/x-python",
   "name": "python",
   "nbconvert_exporter": "python",
   "pygments_lexer": "ipython3",
   "version": "3.6.3"
  }
 },
 "nbformat": 4,
 "nbformat_minor": 2
}
